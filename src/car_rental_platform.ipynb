{
 "cells": [
  {
   "cell_type": "code",
   "execution_count": 2,
   "id": "fec8488e-a180-40c5-b08e-deb3fe2c6ea0",
   "metadata": {
    "tags": []
   },
   "outputs": [
    {
     "name": "stdout",
     "output_type": "stream",
     "text": [
      "Start of CarRental:init\n",
      "End of CarRental:init\n",
      "Start of CarRental:display_available_cars\n",
      "Available cars: 15\n",
      "End of CarRental:display_available_cars\n",
      "===========================================\n",
      "Start of Customer:init\n",
      "End of Customer:init\n",
      "Start of Customer:request_car\n",
      "Start of CarRental:rent_car\n",
      "End of CarRental:rent_car\n",
      "End of Customer:request_car\n",
      "===========================================\n",
      "Start of Customer:init\n",
      "End of Customer:init\n",
      "Start of Customer:request_car\n",
      "Start of CarRental:rent_car\n",
      "End of CarRental:rent_car\n",
      "End of Customer:request_car\n",
      "===========================================\n",
      "Start of Customer:return_car\n",
      "Start of CarRental: release_car\n",
      "Rental mode selected is daily\n",
      "Start of CarRental:rent_daily\n",
      "Hello  Prakash  , your bill amount =  5000\n",
      "Start of CarRental: release_car\n",
      "End of Customer:return_car\n",
      "===========================================\n",
      "Start of Customer:return_car\n",
      "Start of CarRental: release_car\n",
      "Rental mode selected is daily\n",
      "Start of CarRental:rent_daily\n",
      "Hello  Praveena  , your bill amount =  1250\n",
      "Start of CarRental: release_car\n",
      "End of Customer:return_car\n"
     ]
    }
   ],
   "source": [
    "from car_rental import CarRental\n",
    "from customer import Customer\n",
    "\n",
    "rental = CarRental(15)\n",
    "rental.display_available_cars();\n",
    "\n",
    "print('===========================================')\n",
    "\n",
    "customer1 = Customer('Prakash')\n",
    "customer1.request_car(rental,10,'daily', 10)\n",
    "\n",
    "print('===========================================')\n",
    "customer2 = Customer('Praveena')\n",
    "customer2.request_car(rental,5,'daily', 5)\n",
    "print('===========================================')\n",
    "\n",
    "customer1.return_car(rental,10,'daily', 10)\n",
    "print('===========================================')\n",
    "customer2.return_car(rental,5,'daily', 5)"
   ]
  },
  {
   "cell_type": "code",
   "execution_count": null,
   "id": "d8a3da15-0ca5-4292-a93c-ddf8fe7cec77",
   "metadata": {},
   "outputs": [],
   "source": []
  },
  {
   "cell_type": "code",
   "execution_count": null,
   "id": "00ed3a39-762b-4f69-a785-7cc8147ba65c",
   "metadata": {},
   "outputs": [],
   "source": []
  }
 ],
 "metadata": {
  "kernelspec": {
   "display_name": "Python 3 (ipykernel)",
   "language": "python",
   "name": "python3"
  },
  "language_info": {
   "codemirror_mode": {
    "name": "ipython",
    "version": 3
   },
   "file_extension": ".py",
   "mimetype": "text/x-python",
   "name": "python",
   "nbconvert_exporter": "python",
   "pygments_lexer": "ipython3",
   "version": "3.11.7"
  }
 },
 "nbformat": 4,
 "nbformat_minor": 5
}
